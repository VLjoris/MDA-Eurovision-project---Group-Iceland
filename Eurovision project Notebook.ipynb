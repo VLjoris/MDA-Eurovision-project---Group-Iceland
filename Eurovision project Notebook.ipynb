{
 "cells": [
  {
   "cell_type": "code",
   "execution_count": 1,
   "id": "f2518624",
   "metadata": {
    "ExecuteTime": {
     "end_time": "2022-04-24T14:58:57.290261Z",
     "start_time": "2022-04-24T14:58:56.051902Z"
    }
   },
   "outputs": [],
   "source": [
    "import pandas as pd\n",
    "import py2neo\n",
    "import urllib.request as urllib\n",
    "from py2neo import Graph,Node,Relationship\n",
    "import xlrd"
   ]
  },
  {
   "cell_type": "code",
   "execution_count": 13,
   "id": "2497cdd4",
   "metadata": {
    "ExecuteTime": {
     "end_time": "2022-04-24T15:02:44.026244Z",
     "start_time": "2022-04-24T15:02:43.162103Z"
    },
    "scrolled": true
   },
   "outputs": [
    {
     "name": "stdout",
     "output_type": "stream",
     "text": [
      "WARNING *** OLE2 inconsistency: SSCS size is 0 but SSAT size is non-zero\n",
      "WARNING *** OLE2 inconsistency: SSCS size is 0 but SSAT size is non-zero\n",
      "WARNING *** OLE2 inconsistency: SSCS size is 0 but SSAT size is non-zero\n",
      "WARNING *** OLE2 inconsistency: SSCS size is 0 but SSAT size is non-zero\n",
      "WARNING *** OLE2 inconsistency: SSCS size is 0 but SSAT size is non-zero\n",
      "WARNING *** OLE2 inconsistency: SSCS size is 0 but SSAT size is non-zero\n",
      "WARNING *** OLE2 inconsistency: SSCS size is 0 but SSAT size is non-zero\n",
      "WARNING *** OLE2 inconsistency: SSCS size is 0 but SSAT size is non-zero\n",
      "WARNING *** OLE2 inconsistency: SSCS size is 0 but SSAT size is non-zero\n",
      "WARNING *** OLE2 inconsistency: SSCS size is 0 but SSAT size is non-zero\n",
      "WARNING *** OLE2 inconsistency: SSCS size is 0 but SSAT size is non-zero\n",
      "WARNING *** OLE2 inconsistency: SSCS size is 0 but SSAT size is non-zero\n",
      "WARNING *** OLE2 inconsistency: SSCS size is 0 but SSAT size is non-zero\n",
      "WARNING *** OLE2 inconsistency: SSCS size is 0 but SSAT size is non-zero\n",
      "WARNING *** OLE2 inconsistency: SSCS size is 0 but SSAT size is non-zero\n",
      "WARNING *** OLE2 inconsistency: SSCS size is 0 but SSAT size is non-zero\n",
      "WARNING *** OLE2 inconsistency: SSCS size is 0 but SSAT size is non-zero\n",
      "WARNING *** OLE2 inconsistency: SSCS size is 0 but SSAT size is non-zero\n",
      "Dataframes: \n"
     ]
    },
    {
     "data": {
      "text/plain": [
       "['ESC2014_2015_2016',\n",
       " 'ESC2014_GF_Jurymembers',\n",
       " 'ESC2014_GF_Voting',\n",
       " 'ESC2014_SF1_Jurymembers',\n",
       " 'ESC2014_SF1_Voting',\n",
       " 'ESC2014_SF2_Jurymembers',\n",
       " 'ESC2014_SF2_Voting',\n",
       " 'ESC2015_GF_Jurymembers',\n",
       " 'ESC2015_GF_Voting',\n",
       " 'ESC2015_SF1_Jurymembers',\n",
       " 'ESC2015_SF1_Voting',\n",
       " 'ESC2015_SF2_Jurymembers',\n",
       " 'ESC2015_SF2_Voting',\n",
       " 'ESC2016_GF_Jurymembers',\n",
       " 'ESC2016_GF_Voting',\n",
       " 'ESC2016_SF1_Jurymembers',\n",
       " 'ESC2016_SF1_Voting',\n",
       " 'ESC2016_SF2_Jurymembers',\n",
       " 'ESC2016_SF2_Voting',\n",
       " 'ESC2017',\n",
       " 'ESC2017_GF_Combined',\n",
       " 'ESC2017_GF_Juryvoting',\n",
       " 'ESC2017_GF_Televoting',\n",
       " 'ESC2017_SF1_Combined',\n",
       " 'ESC2017_SF1_Juryvoting',\n",
       " 'ESC2017_SF1_Televoting',\n",
       " 'ESC2017_SF2_Combined',\n",
       " 'ESC2017_SF2_Juryvoting',\n",
       " 'ESC2017_SF2_Televoting',\n",
       " 'ESC2017_juro',\n",
       " 'ESC2017_jurorresults_GF',\n",
       " 'ESC2017_jurorresults_SF1',\n",
       " 'ESC2017_jurorresults_SF2']"
      ]
     },
     "execution_count": 13,
     "metadata": {},
     "output_type": "execute_result"
    }
   ],
   "source": [
    "esc_folder = \"eurovision_esc_2014_2015_2016_2017/\"\n",
    "\n",
    "#load all excel sheets in an \"efficient\" way\n",
    "ESC2014_2015_2016 = [\"ESC2014_SF1\",\"ESC2014_SF2\",\"ESC2014_GF\",\"ESC2015_SF1\",\"ESC2015_SF2\",\"ESC2015_GF\",\"ESC2016_SF1\",\"ESC2016_SF2\",\"ESC2016_GF\"]\n",
    "result_types = [\"Voting\", \"Jury members\"]\n",
    "for file in ESC2014_2015_2016:\n",
    "    for rt in result_types:\n",
    "        globals()[(file + '_' + rt).replace(\" \", \"\")] = pd.read_excel(\"data/\" + esc_folder + file + \".xls\",sheet_name = rt,header=1)\n",
    "\n",
    "\n",
    "ESC2017 = [\"ESC2017_SF1\", \"ESC2017_SF2\", \"ESC2017_GF\"]\n",
    "result_types = [\"Televoting\" , \"Jury voting\", \"Combined\"]\n",
    "for file in ESC2017:\n",
    "    for rt in result_types:\n",
    "        globals()[(file + \"_\" + rt).replace(\" \", \"\")] = pd.read_excel(\"data/\" + esc_folder + file + \".xlsx\", sheet_name = rt, header =1)\n",
    "\n",
    "\n",
    "ESC2017_juro = [\"ESC2017_jurorresults_SF1\",\"ESC2017_jurorresults_SF2\",\"ESC2017_jurorresults_GF\"]\n",
    "for file in ESC2017_juro:\n",
    "    globals()[(file).replace(\" \", \"\")] = pd.read_excel(\"data/\" + esc_folder + file + \".xlsx\", header=1)\n",
    "\n",
    "all_variables = dir()\n",
    "print(\"Dataframes: \")\n",
    "all_variables[0:33]"
   ]
  },
  {
   "cell_type": "code",
   "execution_count": 2,
   "id": "742173d5",
   "metadata": {
    "ExecuteTime": {
     "end_time": "2022-04-24T12:18:23.275976Z",
     "start_time": "2022-04-24T12:18:21.082347Z"
    }
   },
   "outputs": [],
   "source": [
    "#connect to database\n",
    "f=open(\"authentication/neo4j.txt\",\"r\")\n",
    "lines=f.readlines()\n",
    "user=lines[0].replace('\\n','')\n",
    "pwd=lines[1].replace('\\n','')\n",
    "http_port = lines[2]\n",
    "f.close()\n",
    "\n",
    "graph = Graph(http_port, auth=(user, pwd))"
   ]
  },
  {
   "cell_type": "code",
   "execution_count": 7,
   "id": "f60d835d",
   "metadata": {
    "ExecuteTime": {
     "end_time": "2022-04-24T12:18:53.128097Z",
     "start_time": "2022-04-24T12:18:52.737910Z"
    }
   },
   "outputs": [
    {
     "data": {
      "text/html": [
       "<table><tr><th>count(*)</th></tr><tr><td style=\"text-align:right\">46</td></tr></table>"
      ],
      "text/plain": [
       " count(*) \n",
       "----------\n",
       "       46 "
      ]
     },
     "execution_count": 7,
     "metadata": {},
     "output_type": "execute_result"
    }
   ],
   "source": [
    "# laod data in neo4j database\n",
    "fp = urllib.urlopen(\"https://goz39a.s3.eu-central-1.amazonaws.com/eurovision/eurovision.txt\")\n",
    "mybytes = fp.read()\n",
    "data = mybytes.decode(\"utf8\")\n",
    "fp.close()\n",
    "graph.run(data)\n",
    "graph.run(\"MATCH (n) RETURN count(*)\")"
   ]
  },
  {
   "cell_type": "code",
   "execution_count": 6,
   "id": "e8279d0a",
   "metadata": {
    "ExecuteTime": {
     "end_time": "2022-04-24T12:18:51.619563Z",
     "start_time": "2022-04-24T12:18:51.319492Z"
    }
   },
   "outputs": [
    {
     "data": {
      "text/plain": [
       "((No data), (No data))"
      ]
     },
     "execution_count": 6,
     "metadata": {},
     "output_type": "execute_result"
    }
   ],
   "source": [
    "def clear_graph(): \n",
    "    return (graph.run(\"MATCH (n)-[r]->() DELETE r\"), graph.run(\"MATCH (n) DELETE n\"))\n",
    "    \n",
    "clear_graph()"
   ]
  }
 ],
 "metadata": {
  "kernelspec": {
   "display_name": "Python 3 (ipykernel)",
   "language": "python",
   "name": "python3"
  },
  "language_info": {
   "codemirror_mode": {
    "name": "ipython",
    "version": 3
   },
   "file_extension": ".py",
   "mimetype": "text/x-python",
   "name": "python",
   "nbconvert_exporter": "python",
   "pygments_lexer": "ipython3",
   "version": "3.9.7"
  },
  "toc": {
   "base_numbering": 1,
   "nav_menu": {},
   "number_sections": true,
   "sideBar": true,
   "skip_h1_title": false,
   "title_cell": "Table of Contents",
   "title_sidebar": "Contents",
   "toc_cell": false,
   "toc_position": {},
   "toc_section_display": true,
   "toc_window_display": false
  }
 },
 "nbformat": 4,
 "nbformat_minor": 5
}
