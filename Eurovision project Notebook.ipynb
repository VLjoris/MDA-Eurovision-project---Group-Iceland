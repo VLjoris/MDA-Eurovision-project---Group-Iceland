{
 "cells": [
  {
   "cell_type": "markdown",
   "id": "f0c486ce",
   "metadata": {},
   "source": [
    "# Setup"
   ]
  },
  {
   "cell_type": "markdown",
   "id": "8ab08223",
   "metadata": {},
   "source": [
    "## Imports"
   ]
  },
  {
   "cell_type": "code",
   "execution_count": 77,
   "id": "f2518624",
   "metadata": {
    "ExecuteTime": {
     "end_time": "2022-05-07T14:36:10.522979Z",
     "start_time": "2022-05-07T14:36:10.515946Z"
    }
   },
   "outputs": [],
   "source": [
    "import pandas as pd\n",
    "import py2neo\n",
    "import urllib.request as urllib\n",
    "from py2neo import Graph,Node,Relationship\n"
   ]
  },
  {
   "cell_type": "markdown",
   "id": "7829e9f1",
   "metadata": {},
   "source": [
    "## Load data"
   ]
  },
  {
   "cell_type": "code",
   "execution_count": 78,
   "id": "2497cdd4",
   "metadata": {
    "ExecuteTime": {
     "end_time": "2022-05-07T14:36:15.882809Z",
     "start_time": "2022-05-07T14:36:11.838467Z"
    },
    "scrolled": true
   },
   "outputs": [],
   "source": [
    "### esc =  eurovision song contest\n",
    "#https://www.kaggle.com/datasets/datagraver/eurovision-song-contest-scores-19752019?resource=download\n",
    "esc_1975_2019 =  \"eurovision_song_contest_1975_2019.xlsx\"\n",
    "\n",
    "esc_additional = \"Eurovision additional.xlsx\"\n",
    "\n",
    "#http://www.cepii.fr/cepii\n",
    "geo_cepii = \"geo_cepii.xls\"\n",
    "\n",
    "#https://github.com/geodatasource/country-borders/blob/master/GEODATASOURCE-COUNTRY-BORDERS.CSV\n",
    "geo_borders = \"GEODATASOURCE-COUNTRY-BORDERS.csv\"\n",
    "\n",
    "#https://datahub.io/core/country-list#resource-data\n",
    "iso2 = \"iso2.csv\"\n",
    "\n",
    "#load data in pandas df\n",
    "df_iso2_convert = pd.read_csv(\"data/\" + iso2)\n",
    "df_borders = pd.read_csv(\"data/\" + geo_borders)\n",
    "df_geo = pd.read_excel(\"data/\" + geo_cepii,header=0)\n",
    "df_additional = pd.read_excel(\"data/\" + esc_additional, header=0)\n",
    "df_esc = pd.read_excel(\"data/\" + esc_1975_2019,sheet_name = \"Data\",header=0)\n",
    "df_features = []\n",
    "faulty_countries = []\n",
    "df_country_lookup = []"
   ]
  },
  {
   "cell_type": "markdown",
   "id": "db58c9ab",
   "metadata": {},
   "source": [
    "## Functions"
   ]
  },
  {
   "cell_type": "code",
   "execution_count": 79,
   "id": "62f0db38",
   "metadata": {
    "ExecuteTime": {
     "end_time": "2022-05-07T14:36:15.913208Z",
     "start_time": "2022-05-07T14:36:15.886144Z"
    },
    "code_folding": []
   },
   "outputs": [],
   "source": [
    "# converts country columm to an iso2 column. Provided a lookup table containing the correct spelling of wrongly spelled countries.\n",
    "# run with empty lookup_table to get wronly spelled countries and update lookup_table aferwards \n",
    "def country_to_iso2(df, columns = [] , lookup_table = []): \n",
    "    global faulty_countries\n",
    "    global df_country_lookup\n",
    "    faulty_countries = []\n",
    "    for column in columns:\n",
    "        df[column].apply(get_faulty_countries)\n",
    "        try: \n",
    "            df_country_lookup = pd.DataFrame({'faulty': faulty_countries, 'correct': lookup_table})\n",
    "        except:\n",
    "            print(\"lookup table does not size of faulty_countries table : \\n\" + \"lookup: \" + str(lookup_table) + \"\\n faulty: \" + str(faulty_countries) )\n",
    "            break\n",
    "        newname = column + '_iso2'\n",
    "        df[newname] = df[column].apply(get_iso2)\n",
    "        df = df.drop([column], axis=1)\n",
    "        \n",
    "# dds a new country name to an array with wrongly spelled countries\n",
    "def get_faulty_countries(country):\n",
    "    global faulty_countries\n",
    "    code = df_iso2_convert.loc[df_iso2_convert['Name'] == country][\"Code\"].values\n",
    "    if code.size == 0:\n",
    "        if country not in faulty_countries:\n",
    "            faulty_countries.append(country)\n",
    "\n",
    "# matches a worngly spelled country to the correct format\n",
    "def fix_country(country):\n",
    "    global df_country_lookup\n",
    "    new_country = df_country_lookup.loc[df_country_lookup[\"faulty\"] == country][\"correct\"].values \n",
    "    if new_country.size > 0:\n",
    "        return new_country[0]\n",
    "    else: \n",
    "        return \"Nan\"\n",
    "\n",
    "# finds the iso2 code for a country name\n",
    "def get_iso2(country):\n",
    "    code = df_iso2_convert.loc[df_iso2_convert['Name'] == country][\"Code\"].values\n",
    "    if code.size > 0:\n",
    "        return code[0]\n",
    "    else:\n",
    "        return df_iso2_convert.loc[df_iso2_convert['Name'] == fix_country(country)][\"Code\"].values[0]\n",
    "\n",
    "# copies features from a dataframe (with an iso2 column) into df_features\n",
    "def copy_features(df,iso2_column, features = []):    \n",
    "    for feature in features:\n",
    "        df_features[feature] = \"\"\n",
    "        for index, row in df_features.iterrows():\n",
    "            val = df.loc[df[iso2_column]== index][feature].values\n",
    "            if val.size > 0:\n",
    "                df_features.loc[index,feature] = val[0]\n",
    "            else:\n",
    "                row[feature] = \"Nan\""
   ]
  },
  {
   "cell_type": "markdown",
   "id": "2fa4bdf8",
   "metadata": {},
   "source": [
    "## Data preprocessing"
   ]
  },
  {
   "cell_type": "code",
   "execution_count": 80,
   "id": "dc1c06f2",
   "metadata": {
    "ExecuteTime": {
     "end_time": "2022-05-07T14:36:17.046056Z",
     "start_time": "2022-05-07T14:36:17.038055Z"
    }
   },
   "outputs": [],
   "source": [
    "# drop uninteresting columns\n",
    "df_esc = df_esc.drop([\"Duplicate\" , \"Edition\"], axis =1) "
   ]
  },
  {
   "cell_type": "code",
   "execution_count": 81,
   "id": "43c5589b",
   "metadata": {
    "ExecuteTime": {
     "end_time": "2022-05-07T14:37:00.253187Z",
     "start_time": "2022-05-07T14:36:17.849952Z"
    }
   },
   "outputs": [],
   "source": [
    "## create iso2 column from the country columns\n",
    "lookup = ['Netherlands','Macedonia, the Former Yugoslav Republic of', 'Bosnia and Herzegovina', 'Russian Federation', 'Macedonia, the Former Yugoslav Republic of','Serbia','Moldova, Republic of', 'Macedonia, the Former Yugoslav Republic of','Netherlands', 'Macedonia, the Former Yugoslav Republic of']\n",
    "country_to_iso2(df_esc, ['From country', 'To country'], lookup ) \n",
    "        \n",
    "lookup = ['Macedonia, the Former Yugoslav Republic of', 'Moldova, Republic of', 'Russian Federation']\n",
    "country_to_iso2(df_additional, [\"Unnamed: 0\"], lookup)"
   ]
  },
  {
   "cell_type": "code",
   "execution_count": 82,
   "id": "21dcbf2c",
   "metadata": {
    "ExecuteTime": {
     "end_time": "2022-05-07T14:37:01.705016Z",
     "start_time": "2022-05-07T14:37:00.255189Z"
    }
   },
   "outputs": [],
   "source": [
    "### create a lookup table for iso2\n",
    "iso2_list = []\n",
    "for index, row in df_esc.iterrows():   \n",
    "    iso2 = row[\"From country_iso2\"]\n",
    "    if iso2 not in iso2_list:\n",
    "        iso2_list.append(iso2)\n",
    "df_iso2 = df_iso2_convert[df_iso2_convert['Code'].isin(iso2_list)].set_index('Code')\n",
    "df_features = df_iso2.copy() #copy iso2 and country names into feature matrix"
   ]
  },
  {
   "cell_type": "code",
   "execution_count": 83,
   "id": "6b25922e",
   "metadata": {
    "ExecuteTime": {
     "end_time": "2022-05-07T14:37:01.890210Z",
     "start_time": "2022-05-07T14:37:01.707019Z"
    }
   },
   "outputs": [],
   "source": [
    "# copy interesting country features ino feature matrix based on matching iso2\n",
    "geo_features = ['continent', 'langoff_1','lat','lon','colonizer1'] #features that seem interesting? \n",
    "copy_features(df_geo,\"iso2\", geo_features)\n",
    "\n",
    "additional_features = ['Religion', 'Most Common Country of Origin of Immigrants'] \n",
    "copy_features(df_additional,\"Unnamed: 0_iso2\",additional_features)\n",
    "\n",
    "#concatenate border ios2 codes into list and ad border iso2 codes to feature matrix\n",
    "df_borders = pd.DataFrame(df_borders.groupby(\"country_code\")[\"country_border_code\"].apply(list)).reset_index(level=0)\n",
    "feature = [\"country_border_code\"]\n",
    "copy_features(df_borders, \"country_code\",feature)\n"
   ]
  },
  {
   "cell_type": "markdown",
   "id": "3e321433",
   "metadata": {},
   "source": [
    "# rest code ?"
   ]
  },
  {
   "cell_type": "code",
   "execution_count": 6,
   "id": "742173d5",
   "metadata": {
    "ExecuteTime": {
     "end_time": "2022-05-01T12:30:03.533479Z",
     "start_time": "2022-05-01T12:30:01.492311Z"
    }
   },
   "outputs": [],
   "source": [
    "# Connect to neo4j database\n",
    "f=open(\"authentication/neo4j.txt\",\"r\")\n",
    "lines=f.readlines()\n",
    "user=lines[0].replace('\\n','')\n",
    "pwd=lines[1].replace('\\n','')\n",
    "http_port = lines[2]\n",
    "f.close()\n",
    "\n",
    "graph = Graph(http_port, auth=(user, pwd))"
   ]
  },
  {
   "cell_type": "code",
   "execution_count": 7,
   "id": "f60d835d",
   "metadata": {
    "ExecuteTime": {
     "end_time": "2022-04-24T12:18:53.128097Z",
     "start_time": "2022-04-24T12:18:52.737910Z"
    }
   },
   "outputs": [
    {
     "data": {
      "text/html": [
       "<table><tr><th>count(*)</th></tr><tr><td style=\"text-align:right\">46</td></tr></table>"
      ],
      "text/plain": [
       " count(*) \n",
       "----------\n",
       "       46 "
      ]
     },
     "execution_count": 7,
     "metadata": {},
     "output_type": "execute_result"
    }
   ],
   "source": [
    "# laod data in neo4j database\n",
    "# //Eurovision votes in the 2012,2013, 2014 and 2015 final session. (data already included in esc_1975_2019 data set? )\n",
    "fp = urllib.urlopen(\"https://goz39a.s3.eu-central-1.amazonaws.com/eurovision/eurovision.txt\")\n",
    "mybytes = fp.read()\n",
    "data = mybytes.decode(\"utf8\")\n",
    "fp.close()\n",
    "graph.run(data)\n",
    "graph.run(\"MATCH (n) RETURN count(*)\")"
   ]
  },
  {
   "cell_type": "code",
   "execution_count": 6,
   "id": "e8279d0a",
   "metadata": {
    "ExecuteTime": {
     "end_time": "2022-04-24T12:18:51.619563Z",
     "start_time": "2022-04-24T12:18:51.319492Z"
    }
   },
   "outputs": [
    {
     "data": {
      "text/plain": [
       "((No data), (No data))"
      ]
     },
     "execution_count": 6,
     "metadata": {},
     "output_type": "execute_result"
    }
   ],
   "source": [
    "\n",
    "def clear_graph(): \n",
    "    return (graph.run(\"MATCH (n)-[r]->() DELETE r\"), graph.run(\"MATCH (n) DELETE n\"))\n",
    "    \n",
    "clear_graph()"
   ]
  }
 ],
 "metadata": {
  "kernelspec": {
   "display_name": "Python 3 (ipykernel)",
   "language": "python",
   "name": "python3"
  },
  "language_info": {
   "codemirror_mode": {
    "name": "ipython",
    "version": 3
   },
   "file_extension": ".py",
   "mimetype": "text/x-python",
   "name": "python",
   "nbconvert_exporter": "python",
   "pygments_lexer": "ipython3",
   "version": "3.9.7"
  },
  "toc": {
   "base_numbering": 1,
   "nav_menu": {},
   "number_sections": true,
   "sideBar": true,
   "skip_h1_title": false,
   "title_cell": "Table of Contents",
   "title_sidebar": "Contents",
   "toc_cell": false,
   "toc_position": {},
   "toc_section_display": true,
   "toc_window_display": true
  }
 },
 "nbformat": 4,
 "nbformat_minor": 5
}
