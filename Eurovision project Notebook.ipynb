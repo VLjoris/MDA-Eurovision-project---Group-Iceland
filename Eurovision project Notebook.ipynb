{
 "cells": [
  {
   "cell_type": "code",
   "execution_count": 3,
   "id": "f2518624",
   "metadata": {
    "ExecuteTime": {
     "end_time": "2022-05-05T16:23:08.884849Z",
     "start_time": "2022-05-05T16:23:08.880941Z"
    }
   },
   "outputs": [],
   "source": [
    "import pandas as pd\n",
    "import py2neo\n",
    "import urllib.request as urllib\n",
    "from py2neo import Graph,Node,Relationship\n"
   ]
  },
  {
   "cell_type": "code",
   "execution_count": 7,
   "id": "2497cdd4",
   "metadata": {
    "ExecuteTime": {
     "end_time": "2022-05-05T16:23:42.101520Z",
     "start_time": "2022-05-05T16:23:38.048260Z"
    },
    "scrolled": true
   },
   "outputs": [],
   "source": [
    "# esc =  eurovision song contest\n",
    "esc_1975_2019 =  \"eurovision_song_contest_1975_2019.xlsx\"\n",
    "geo_cepii = \"geo_cepii.xls\"\n",
    "esc_df = pd.read_excel(\"data/\" + esc_1975_2019   ,sheet_name = \"Data\",header=0)\n",
    "geo_df = pdf.read_excel(\"data/\" + geo_ceppi,)\n"
   ]
  },
  {
   "cell_type": "code",
   "execution_count": 6,
   "id": "742173d5",
   "metadata": {
    "ExecuteTime": {
     "end_time": "2022-05-01T12:30:03.533479Z",
     "start_time": "2022-05-01T12:30:01.492311Z"
    }
   },
   "outputs": [],
   "source": [
    "# Connect to neo4j database\n",
    "f=open(\"authentication/neo4j.txt\",\"r\")\n",
    "lines=f.readlines()\n",
    "user=lines[0].replace('\\n','')\n",
    "pwd=lines[1].replace('\\n','')\n",
    "http_port = lines[2]\n",
    "f.close()\n",
    "\n",
    "graph = Graph(http_port, auth=(user, pwd))"
   ]
  },
  {
   "cell_type": "code",
   "execution_count": 7,
   "id": "f60d835d",
   "metadata": {
    "ExecuteTime": {
     "end_time": "2022-04-24T12:18:53.128097Z",
     "start_time": "2022-04-24T12:18:52.737910Z"
    }
   },
   "outputs": [
    {
     "data": {
      "text/html": [
       "<table><tr><th>count(*)</th></tr><tr><td style=\"text-align:right\">46</td></tr></table>"
      ],
      "text/plain": [
       " count(*) \n",
       "----------\n",
       "       46 "
      ]
     },
     "execution_count": 7,
     "metadata": {},
     "output_type": "execute_result"
    }
   ],
   "source": [
    "# laod data in neo4j database\n",
    "# //Eurovision votes in the 2012,2013, 2014 and 2015 final session.\n",
    "fp = urllib.urlopen(\"https://goz39a.s3.eu-central-1.amazonaws.com/eurovision/eurovision.txt\")\n",
    "mybytes = fp.read()\n",
    "data = mybytes.decode(\"utf8\")\n",
    "fp.close()\n",
    "graph.run(data)\n",
    "graph.run(\"MATCH (n) RETURN count(*)\")"
   ]
  },
  {
   "cell_type": "code",
   "execution_count": 6,
   "id": "e8279d0a",
   "metadata": {
    "ExecuteTime": {
     "end_time": "2022-04-24T12:18:51.619563Z",
     "start_time": "2022-04-24T12:18:51.319492Z"
    }
   },
   "outputs": [
    {
     "data": {
      "text/plain": [
       "((No data), (No data))"
      ]
     },
     "execution_count": 6,
     "metadata": {},
     "output_type": "execute_result"
    }
   ],
   "source": [
    "\n",
    "def clear_graph(): \n",
    "    return (graph.run(\"MATCH (n)-[r]->() DELETE r\"), graph.run(\"MATCH (n) DELETE n\"))\n",
    "    \n",
    "clear_graph()"
   ]
  }
 ],
 "metadata": {
  "kernelspec": {
   "display_name": "Python 3 (ipykernel)",
   "language": "python",
   "name": "python3"
  },
  "language_info": {
   "codemirror_mode": {
    "name": "ipython",
    "version": 3
   },
   "file_extension": ".py",
   "mimetype": "text/x-python",
   "name": "python",
   "nbconvert_exporter": "python",
   "pygments_lexer": "ipython3",
   "version": "3.9.7"
  },
  "toc": {
   "base_numbering": 1,
   "nav_menu": {},
   "number_sections": true,
   "sideBar": true,
   "skip_h1_title": false,
   "title_cell": "Table of Contents",
   "title_sidebar": "Contents",
   "toc_cell": false,
   "toc_position": {},
   "toc_section_display": true,
   "toc_window_display": false
  }
 },
 "nbformat": 4,
 "nbformat_minor": 5
}
